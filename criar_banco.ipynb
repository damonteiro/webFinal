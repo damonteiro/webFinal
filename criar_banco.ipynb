{
 "cells": [
  {
   "cell_type": "code",
   "execution_count": 1,
   "metadata": {},
   "outputs": [],
   "source": [
    "import pandas as pd\n",
    "from sqlalchemy import create_engine"
   ]
  },
  {
   "cell_type": "code",
   "execution_count": 2,
   "metadata": {},
   "outputs": [],
   "source": [
    "engine = create_engine('sqlite:///banco.db', echo=True)"
   ]
  },
  {
   "cell_type": "code",
   "execution_count": 3,
   "metadata": {},
   "outputs": [],
   "source": [
    "# Dados fictícios\n",
    "data = {\n",
    "    \"notebook\": [\n",
    "        \"Dell XPS 13 9310\", \"Apple MacBook Air M2 256GB\", \"Lenovo ThinkPad X1 Carbon 9ª Geração\",\n",
    "        \"Acer Aspire 5\", \"HP Pavilion 15\", \"Samsung Galaxy Book 2 Pro 15\", \"Asus VivoBook 15\",\n",
    "        \"MSI GF63 Thin 11SC-212XBR\", \"LG Gram 14\", \"Microsoft Surface Laptop 4\", \n",
    "        \"Lenovo IdeaPad 3 15\", \"Dell Inspiron 15 3000\"\n",
    "    ],\n",
    "    \"preco\": [\n",
    "        7599.00, 10999.00, 8999.00, 3399.00, 4299.00, 5499.00, 3699.00, 6599.00, 6999.00, 7799.00,\n",
    "        2799.00, 3299.00\n",
    "    ],\n",
    "    \"tamanho_tela\": [\n",
    "        13.3, 13.3, 14.0, 15.6, 15.6, 15.6, 15.6, 15.6, 14.0, 13.5, 15.6, 15.6\n",
    "    ]\n",
    "}"
   ]
  },
  {
   "cell_type": "code",
   "execution_count": 4,
   "metadata": {},
   "outputs": [],
   "source": [
    "df = pd.DataFrame(data)"
   ]
  },
  {
   "cell_type": "code",
   "execution_count": 5,
   "metadata": {},
   "outputs": [
    {
     "name": "stdout",
     "output_type": "stream",
     "text": [
      "2024-11-26 16:30:58,676 INFO sqlalchemy.engine.Engine BEGIN (implicit)\n",
      "2024-11-26 16:30:58,679 INFO sqlalchemy.engine.Engine PRAGMA main.table_info(\"dados\")\n",
      "2024-11-26 16:30:58,679 INFO sqlalchemy.engine.Engine [raw sql] ()\n",
      "2024-11-26 16:30:58,680 INFO sqlalchemy.engine.Engine PRAGMA temp.table_info(\"dados\")\n",
      "2024-11-26 16:30:58,681 INFO sqlalchemy.engine.Engine [raw sql] ()\n",
      "2024-11-26 16:30:58,682 INFO sqlalchemy.engine.Engine \n",
      "CREATE TABLE dados (\n",
      "\tnotebook TEXT, \n",
      "\tpreco FLOAT, \n",
      "\ttamanho_tela FLOAT\n",
      ")\n",
      "\n",
      "\n",
      "2024-11-26 16:30:58,683 INFO sqlalchemy.engine.Engine [no key 0.00095s] ()\n",
      "2024-11-26 16:30:58,963 INFO sqlalchemy.engine.Engine INSERT INTO dados (notebook, preco, tamanho_tela) VALUES (?, ?, ?)\n",
      "2024-11-26 16:30:58,963 INFO sqlalchemy.engine.Engine [generated in 0.00094s] [('Dell XPS 13 9310', 7599.0, 13.3), ('Apple MacBook Air M2 256GB', 10999.0, 13.3), ('Lenovo ThinkPad X1 Carbon 9ª Geração', 8999.0, 14.0), ('Acer Aspire 5', 3399.0, 15.6), ('HP Pavilion 15', 4299.0, 15.6), ('Samsung Galaxy Book 2 Pro 15', 5499.0, 15.6), ('Asus VivoBook 15', 3699.0, 15.6), ('MSI GF63 Thin 11SC-212XBR', 6599.0, 15.6)  ... displaying 10 of 12 total bound parameter sets ...  ('Lenovo IdeaPad 3 15', 2799.0, 15.6), ('Dell Inspiron 15 3000', 3299.0, 15.6)]\n",
      "2024-11-26 16:30:58,965 INFO sqlalchemy.engine.Engine COMMIT\n",
      "Banco de dados criado e salvo como 'banco.db'\n"
     ]
    }
   ],
   "source": [
    "df.to_sql('dados', con=engine, if_exists='replace', index=False)\n",
    "print(\"Banco de dados criado e salvo como 'banco.db'\")"
   ]
  },
  {
   "cell_type": "code",
   "execution_count": null,
   "metadata": {},
   "outputs": [],
   "source": []
  },
  {
   "cell_type": "code",
   "execution_count": null,
   "metadata": {},
   "outputs": [],
   "source": []
  }
 ],
 "metadata": {
  "kernelspec": {
   "display_name": "Python 3",
   "language": "python",
   "name": "python3"
  },
  "language_info": {
   "codemirror_mode": {
    "name": "ipython",
    "version": 3
   },
   "file_extension": ".py",
   "mimetype": "text/x-python",
   "name": "python",
   "nbconvert_exporter": "python",
   "pygments_lexer": "ipython3",
   "version": "3.12.2"
  }
 },
 "nbformat": 4,
 "nbformat_minor": 2
}
